{
 "cells": [
  {
   "cell_type": "code",
   "execution_count": 27,
   "metadata": {},
   "outputs": [],
   "source": [
    "import numpy as np\n",
    "import matplotlib.pylab as plt"
   ]
  },
  {
   "cell_type": "code",
   "execution_count": 28,
   "metadata": {},
   "outputs": [],
   "source": [
    "def numdiff(f,x):\n",
    "    h= 1e-4\n",
    "    return (f(x+h) - f(x-h))/ (2*h)"
   ]
  },
  {
   "cell_type": "code",
   "execution_count": 29,
   "metadata": {},
   "outputs": [],
   "source": [
    "def fun1(x):\n",
    "    return 0.01*x**2 + 0.1*x"
   ]
  },
  {
   "cell_type": "code",
   "execution_count": 30,
   "metadata": {},
   "outputs": [
    {
     "name": "stdout",
     "output_type": "stream",
     "text": [
      "0.1999999999990898 0.2999999999986347\n"
     ]
    }
   ],
   "source": [
    "print(numdiff(fun1,5), numdiff(fun1,10))"
   ]
  },
  {
   "cell_type": "code",
   "execution_count": 31,
   "metadata": {},
   "outputs": [],
   "source": [
    "#편미분 변수가 여러개, np로 주어짐\n",
    "def fun2(x):\n",
    "    return x[0]**2 + x[1]**2"
   ]
  },
  {
   "cell_type": "code",
   "execution_count": 32,
   "metadata": {},
   "outputs": [],
   "source": [
    "def numdiff_part(f,x):\n",
    "    h = 1e-4\n",
    "    grad = np.zeros_like(x)\n",
    "    \n",
    "    # x[0 ~ size] 하나씩 그 한개에 대한 +h증가 값을 주어서 미분값 측정,\n",
    "    # 다른 값들은 증가량이 없이 들어가기 때문에 f(+h)-f(-h) 에서 0으로 사라진다. \n",
    "    for i in range(x.size):\n",
    "        tmp_val = x[i]\n",
    "        \n",
    "        # f(x+h) 계산\n",
    "        x[i] = float(tmp_val) + h\n",
    "        fxh1 = f(x)\n",
    "        \n",
    "        # f(x-h) 계산\n",
    "        x[i] = float(tmp_val) - h \n",
    "        fxh2 = f(x) \n",
    "        \n",
    "        grad[i] = (fxh1 - fxh2) / (2*h)\n",
    "        x[i] = tmp_val # 값 복원\n",
    "        \n",
    "    return grad\n",
    "        "
   ]
  },
  {
   "cell_type": "code",
   "execution_count": 33,
   "metadata": {},
   "outputs": [],
   "source": [
    "def numerical_gradient(f, X):\n",
    "    #차원이 1때는 그냥 계산\n",
    "    if X.ndim == 1:\n",
    "        return numdiff_part(f, X)\n",
    "    else:\n",
    "        grad = np.zeros_like(X)\n",
    "        \n",
    "        #2차원  index 하나당 배열 x로 나눈다.\n",
    "        #재귀적으로 하는게 맞지 않나? \n",
    "        for i, x in enumerate(X):\n",
    "            grad[i] = numerical_gradient(f, x)\n",
    "        \n",
    "        return grad"
   ]
  },
  {
   "cell_type": "code",
   "execution_count": 34,
   "metadata": {},
   "outputs": [
    {
     "name": "stdout",
     "output_type": "stream",
     "text": [
      "0 [[1]\n",
      " [2]]\n",
      "1 [[3]\n",
      " [4]]\n"
     ]
    }
   ],
   "source": [
    "x = np.array([[ [1] ,[2]] ,  [[3],[4]] ])\n",
    "for i, x in enumerate(x):\n",
    "    print(i,x)\n"
   ]
  },
  {
   "cell_type": "code",
   "execution_count": 47,
   "metadata": {},
   "outputs": [],
   "source": [
    "def gradient_descent(f, init_x, lr=0.01, step_num=100):\n",
    "    x = init_x #초기 값\n",
    "    x_history = []\n",
    "\n",
    "    for i in range(step_num):\n",
    "        #x값 계속 기록...\n",
    "        x_history.append( x.copy() )\n",
    "        \n",
    "        #x에서 기울기 구하고 \n",
    "        #그 만큼 이동해서 다시 구한다.\n",
    "        #점점 x는 기울기가 0에 가까운 곳으로 이동,\n",
    "        # 0.01씩 기울기만큼 100번 학습!\n",
    "        # 각 변수마다 편미분 값이 벡터로 나온다...\n",
    "        grad = numerical_gradient(f, x)\n",
    "        print(x,grad)\n",
    "        x -= lr * grad\n",
    "    \n",
    "    return x, np.array(x_history)"
   ]
  },
  {
   "cell_type": "code",
   "execution_count": 58,
   "metadata": {},
   "outputs": [
    {
     "name": "stdout",
     "output_type": "stream",
     "text": [
      "[-3.  4.] [-6.  8.]\n",
      "[-2.7  3.6] [-5.4  7.2]\n",
      "[-2.43  3.24] [-4.86  6.48]\n",
      "[-2.187  2.916] [-4.374  5.832]\n",
      "[-1.9683  2.6244] [-3.9366  5.2488]\n",
      "[-1.77147  2.36196] [-3.54294  4.72392]\n",
      "[-1.594323  2.125764] [-3.188646  4.251528]\n",
      "[-1.4348907  1.9131876] [-2.8697814  3.8263752]\n",
      "[-1.29140163  1.72186884] [-2.58280326  3.44373768]\n",
      "[-1.16226147  1.54968196] [-2.32452293  3.09936391]\n",
      "[-1.04603532  1.39471376] [-2.09207064  2.78942752]\n",
      "[-0.94143179  1.25524238] [-1.88286358  2.51048477]\n",
      "[-0.84728861  1.12971815] [-1.69457722  2.25943629]\n",
      "[-0.76255975  1.01674633] [-1.5251195   2.03349266]\n",
      "[-0.68630377  0.9150717 ] [-1.37260755  1.8301434 ]\n",
      "[-0.6176734   0.82356453] [-1.23534679  1.64712906]\n",
      "[-0.55590606  0.74120808] [-1.11181211  1.48241615]\n",
      "[-0.50031545  0.66708727] [-1.0006309   1.33417454]\n",
      "[-0.45028391  0.60037854] [-0.90056781  1.20075708]\n",
      "[-0.40525552  0.54034069] [-0.81051103  1.08068137]\n",
      "[-0.36472996  0.48630662] [-0.72945993  0.97261324]\n",
      "[-0.32825697  0.43767596] [-0.65651393  0.87535191]\n",
      "[-0.29543127  0.39390836] [-0.59086254  0.78781672]\n",
      "[-0.26588814  0.35451752] [-0.53177629  0.70903505]\n",
      "[-0.23929933  0.31906577] [-0.47859866  0.63813154]\n",
      "[-0.2153694  0.2871592] [-0.43073879  0.57431839]\n",
      "[-0.19383246  0.25844328] [-0.38766491  0.51688655]\n",
      "[-0.17444921  0.23259895] [-0.34889842  0.4651979 ]\n",
      "[-0.15700429  0.20933905] [-0.31400858  0.41867811]\n",
      "[-0.14130386  0.18840515] [-0.28260772  0.3768103 ]\n",
      "[-0.12717347  0.16956463] [-0.25434695  0.33912927]\n",
      "[-0.11445613  0.15260817] [-0.22891225  0.30521634]\n",
      "[-0.10301051  0.13734735] [-0.20602103  0.27469471]\n",
      "[-0.09270946  0.12361262] [-0.18541893  0.24722524]\n",
      "[-0.08343852  0.11125136] [-0.16687703  0.22250271]\n",
      "[-0.07509467  0.10012622] [-0.15018933  0.20025244]\n",
      "[-0.0675852  0.0901136] [-0.1351704  0.1802272]\n",
      "[-0.06082668  0.08110224] [-0.12165336  0.16220448]\n",
      "[-0.05474401  0.07299201] [-0.10948802  0.14598403]\n",
      "[-0.04926961  0.06569281] [-0.09853922  0.13138563]\n",
      "[-0.04434265  0.05912353] [-0.0886853   0.11824706]\n",
      "[-0.03990838  0.05321118] [-0.07981677  0.10642236]\n",
      "[-0.03591755  0.04789006] [-0.07183509  0.09578012]\n",
      "[-0.03232579  0.04310105] [-0.06465158  0.08620211]\n",
      "[-0.02909321  0.03879095] [-0.05818642  0.0775819 ]\n",
      "[-0.02618389  0.03491185] [-0.05236778  0.06982371]\n",
      "[-0.0235655   0.03142067] [-0.047131    0.06284134]\n",
      "[-0.02120895  0.0282786 ] [-0.0424179  0.0565572]\n",
      "[-0.01908806  0.02545074] [-0.03817611  0.05090148]\n",
      "[-0.01717925  0.02290567] [-0.0343585   0.04581134]\n"
     ]
    },
    {
     "data": {
      "image/png": "[encoded data removed]",
      "text/plain": [
       "<Figure size 432x288 with 1 Axes>"
      ]
     },
     "metadata": {
      "needs_background": "light"
     },
     "output_type": "display_data"
    }
   ],
   "source": [
    "\n",
    "init_x = np.array([-3.0, 4.0])    \n",
    "\n",
    "lr = 0.05\n",
    "step_num = 50\n",
    "x, x_history = gradient_descent(fun2, init_x, lr=lr, step_num=step_num)\n",
    "\n",
    "plt.plot( [-5, 5], [0,0], '--b')\n",
    "plt.plot( [0,0], [-5, 5], '--b')\n",
    "plt.plot(x_history[:,0], x_history[:,1], 'o')\n",
    "\n",
    "plt.xlim(-3.5, 3.5)\n",
    "plt.ylim(-4.5, 4.5)\n",
    "plt.xlabel(\"X0\")\n",
    "plt.ylabel(\"X1\")\n",
    "plt.show()\n",
    "\n",
    "#거의 수렴해서 0으로 이동했다."
   ]
  },
  {
   "cell_type": "code",
   "execution_count": null,
   "metadata": {},
   "outputs": [],
   "source": []
  }
 ],
 "metadata": {
  "kernelspec": {
   "display_name": "tensorflow",
   "language": "python",
   "name": "tensorflow"
  },
  "language_info": {
   "codemirror_mode": {
    "name": "ipython",
    "version": 3
   },
   "file_extension": ".py",
   "mimetype": "text/x-python",
   "name": "python",
   "nbconvert_exporter": "python",
   "pygments_lexer": "ipython3",
   "version": "3.8.0"
  }
 },
 "nbformat": 4,
 "nbformat_minor": 2
}
