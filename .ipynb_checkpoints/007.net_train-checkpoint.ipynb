{
 "cells": [
  {
   "cell_type": "code",
   "execution_count": 1,
   "metadata": {},
   "outputs": [],
   "source": [
    "import sys, os\n",
    "sys.path.append(os.pardir)\n",
    "import numpy as np\n",
    "import matplotlib.pyplot as plt\n",
    "from common.functions import *\n",
    "from common.gradient import numerical_gradient\n",
    "from dataset.mnist import load_mnist\n"
   ]
  },
  {
   "cell_type": "code",
   "execution_count": 2,
   "metadata": {},
   "outputs": [],
   "source": [
    "# 2층 weight 신경망\n",
    "class TwoLayerNet:\n",
    "    \n",
    "    #입력층 노드 수(0층) , 은닉층(1층) 노드 수, 출력층(2층) 노드 수\n",
    "    # 초기 weight와 bias는 랜덤.\n",
    "    def __init__(self, input_size, hidden_size, output_size, weight_init_std=0.01):\n",
    "        # 가중치 초기화\n",
    "        # W1은 1층 무게 W2는 2층무게\n",
    "        # b는 각층 bias\n",
    "        self.params = {}\n",
    "        # 0층 노두수 *1층 노드 수 행렬 \n",
    "        self.params['W1'] = weight_init_std * np.random.randn(input_size, hidden_size)\n",
    "        # 1* 1층 노드 수 (1층 노드에서 더해질 bias)\n",
    "        self.params['b1'] = np.zeros(hidden_size)\n",
    "        # 1층 노두수 *2층 노드 수 행렬\n",
    "        self.params['W2'] = weight_init_std * np.random.randn(hidden_size, output_size)\n",
    "        # 1* 2층 노드 수  (2층 노드에서 더해질 bias)\n",
    "        self.params['b2'] = np.zeros(output_size)\n",
    "\n",
    "    # x 입력이 들어올떄 예측 출력값.\n",
    "    def predict(self, x):\n",
    "        W1, W2 = self.params['W1'], self.params['W2']\n",
    "        b1, b2 = self.params['b1'], self.params['b2']\n",
    "        \n",
    "        #1층에서 w와 b계산후 sigmoid\n",
    "        a1 = np.dot(x, W1) + b1\n",
    "        z1 = sigmoid(a1)\n",
    "        #2층에서 w와 b계산후 sigmoid\n",
    "        a2 = np.dot(z1, W2) + b2\n",
    "        \n",
    "        #마지막 결과 값 softmax로 확률화..\n",
    "        y = softmax(a2)\n",
    "        \n",
    "        return y\n",
    "        \n",
    "    # x : 입력 데이터, t : 정답 레이블\n",
    "    def loss(self, x, t):\n",
    "        y = self.predict(x)\n",
    "        \n",
    "        #loss의 오차 구하는 값,,\n",
    "        # x입력이 주어졌을때 예측한 y값과 정답 t의 차이 반환!\n",
    "        return cross_entropy_error(y, t)\n",
    "    \n",
    "    #입력 x 정답 t일때 정확도 계산\n",
    "    def accuracy(self, x, t):\n",
    "        y = self.predict(x)\n",
    "        # 각 행별로 가장큰 열이 있는 인덱스를 반환하는 배열\n",
    "        y = np.argmax(y, axis=1)\n",
    "        t = np.argmax(t, axis=1)\n",
    "        \n",
    "        #각 행 => testcase_ 각 testcase마다 가장 큰게 같다면, 맞춘 testcase 개수가 분자\n",
    "        # x의 1차원(즉 행의수)는 전제 testcase의 숫자...\n",
    "        accuracy = np.sum(y == t) / float(x.shape[0])\n",
    "        return accuracy\n",
    "        \n",
    "    # x : 입력 데이터, t : 정답 레이블\n",
    "    def numerical_gradient(self, x, t):\n",
    "        #x입력값 t 정답일때 현재 weight로 계산한 loss값\n",
    "        loss_W = lambda W: self.loss(x, t)\n",
    "        \n",
    "        grads = {}\n",
    "        #weight 와 bias의 각각의 편미분 값을 구한 행렬 반환,\n",
    "        #numerical_gradient함수는 각 weight에 대한 편미분을 하나씩 loss_W값을 확인하며 구한다.\n",
    "        #느린듯..\n",
    "        grads['W1'] = numerical_gradient(loss_W, self.params['W1'])\n",
    "        grads['b1'] = numerical_gradient(loss_W, self.params['b1'])\n",
    "        grads['W2'] = numerical_gradient(loss_W, self.params['W2'])\n",
    "        grads['b2'] = numerical_gradient(loss_W, self.params['b2'])\n",
    "        \n",
    "        return grads\n",
    "    \n",
    "    #이건 뭐하는 함수지?? 최적화 하였따 위의 함수가 느려서..\n",
    "    def gradient(self, x, t):\n",
    "        W1, W2 = self.params['W1'], self.params['W2']\n",
    "        b1, b2 = self.params['b1'], self.params['b2']\n",
    "        grads = {}\n",
    "        \n",
    "        #batch는 총 task 수\n",
    "        batch_num = x.shape[0]\n",
    "\n",
    "        # forward\n",
    "        a1 = np.dot(x, W1) + b1\n",
    "        z1 = sigmoid(a1)\n",
    "        a2 = np.dot(z1, W2) + b2\n",
    "        y = softmax(a2)\n",
    "        \n",
    "        # backward\n",
    "        dy = (y - t) / batch_num            #task수만큼 차이를 나눈다? \n",
    "        grads['W2'] = np.dot(z1.T, dy)      #W2의 기울기는 z1에서 각 dy의 행렬곱?\n",
    "        grads['b2'] = np.sum(dy, axis=0)    #b2의 기울기는 dy의 각 test들의 노드별 합\n",
    "        \n",
    "        da1 = np.dot(dy, W2.T)\n",
    "        dz1 = sigmoid_grad(a1) * da1\n",
    "        grads['W1'] = np.dot(x.T, dz1)\n",
    "        grads['b1'] = np.sum(dz1, axis=0)\n",
    "\n",
    "        return grads"
   ]
  },
  {
   "cell_type": "code",
   "execution_count": 3,
   "metadata": {},
   "outputs": [],
   "source": [
    "# 데이터 읽기\n",
    "# train , test\n",
    "# 시험할것, 정답\n",
    "(x_train, t_train), (x_test, t_test) = load_mnist(normalize=True, one_hot_label=True)\n",
    "\n",
    "network = TwoLayerNet(input_size=784, hidden_size=50, output_size=10)\n"
   ]
  },
  {
   "cell_type": "code",
   "execution_count": 4,
   "metadata": {},
   "outputs": [],
   "source": [
    "# 하이퍼파라미터\n",
    "iters_num = 10000  # 반복 횟수를 적절히 설정한다.\n",
    "train_size = x_train.shape[0]\n",
    "batch_size = 100   # 미니배치 크기\n",
    "learning_rate = 0.1\n",
    "\n",
    "train_loss_list = []\n",
    "train_acc_list = []\n",
    "test_acc_list = []\n"
   ]
  },
  {
   "cell_type": "code",
   "execution_count": 5,
   "metadata": {},
   "outputs": [
    {
     "name": "stdout",
     "output_type": "stream",
     "text": [
      "train acc, test acc | 0.09751666666666667, 0.0974\n",
      "train acc, test acc | 0.7838, 0.7905\n",
      "train acc, test acc | 0.8765833333333334, 0.8803\n",
      "train acc, test acc | 0.8968, 0.9003\n",
      "train acc, test acc | 0.9077666666666667, 0.9091\n",
      "train acc, test acc | 0.9141666666666667, 0.9142\n",
      "train acc, test acc | 0.9201, 0.9212\n",
      "train acc, test acc | 0.9242666666666667, 0.9236\n",
      "train acc, test acc | 0.9280166666666667, 0.9273\n",
      "train acc, test acc | 0.9320166666666667, 0.9322\n",
      "train acc, test acc | 0.9343666666666667, 0.9332\n",
      "train acc, test acc | 0.93645, 0.936\n",
      "train acc, test acc | 0.93905, 0.9377\n",
      "train acc, test acc | 0.9419166666666666, 0.9407\n",
      "train acc, test acc | 0.9435, 0.9416\n",
      "train acc, test acc | 0.9459833333333333, 0.9426\n",
      "train acc, test acc | 0.9473, 0.9445\n"
     ]
    }
   ],
   "source": [
    "# 1에폭당 반복 수\n",
    "iter_per_epoch = max(train_size / batch_size, 1)\n",
    "\n",
    "for i in range(iters_num):\n",
    "    #print('\\n',i,\"진행중!\\n\")\n",
    "    # 미니배치 획득\n",
    "    batch_mask = np.random.choice(train_size, batch_size)\n",
    "    x_batch = x_train[batch_mask]\n",
    "    t_batch = t_train[batch_mask]\n",
    "    \n",
    "    # 기울기 계산\n",
    "    #grad = network.numerical_gradient(x_batch, t_batch)\n",
    "    grad = network.gradient(x_batch, t_batch)\n",
    "    #print(\"기울기끝!\\n\")\n",
    "    \n",
    "    # 매개변수 갱신\n",
    "    # 기울기 만큼 빼준다..\n",
    "    for key in ('W1', 'b1', 'W2', 'b2'):\n",
    "        network.params[key] -= learning_rate * grad[key]\n",
    "    \n",
    "    # 학습 경과 기록\n",
    "    loss = network.loss(x_batch, t_batch)\n",
    "    train_loss_list.append(loss)\n",
    "    \n",
    "    # 1에폭당 정확도 계산\n",
    "    if i % iter_per_epoch == 0:\n",
    "        train_acc = network.accuracy(x_train, t_train)\n",
    "        test_acc = network.accuracy(x_test, t_test)\n",
    "        train_acc_list.append(train_acc)\n",
    "        test_acc_list.append(test_acc)\n",
    "        print(\"train acc, test acc | \" + str(train_acc) + \", \" + str(test_acc))\n"
   ]
  },
  {
   "cell_type": "code",
   "execution_count": 6,
   "metadata": {},
   "outputs": [
    {
     "data": {
      "image/png": "[encoded data removed]",
      "text/plain": [
       "<Figure size 432x288 with 1 Axes>"
      ]
     },
     "metadata": {
      "needs_background": "light"
     },
     "output_type": "display_data"
    }
   ],
   "source": [
    "# 그래프 그리기\n",
    "markers = {'train': 'o', 'test': 's'}\n",
    "x = np.arange(len(train_acc_list))\n",
    "plt.plot(x, train_acc_list, label='train acc')\n",
    "plt.plot(x, test_acc_list, label='test acc', linestyle='--')\n",
    "plt.xlabel(\"epochs\")\n",
    "plt.ylabel(\"accuracy\")\n",
    "plt.ylim(0, 1.0)\n",
    "plt.legend(loc='lower right')\n",
    "plt.show()"
   ]
  },
  {
   "cell_type": "code",
   "execution_count": null,
   "metadata": {},
   "outputs": [],
   "source": []
  }
 ],
 "metadata": {
  "kernelspec": {
   "display_name": "Python 3",
   "language": "python",
   "name": "python3"
  },
  "language_info": {
   "codemirror_mode": {
    "name": "ipython",
    "version": 3
   },
   "file_extension": ".py",
   "mimetype": "text/x-python",
   "name": "python",
   "nbconvert_exporter": "python",
   "pygments_lexer": "ipython3",
   "version": "3.6.9"
  }
 },
 "nbformat": 4,
 "nbformat_minor": 2
}
