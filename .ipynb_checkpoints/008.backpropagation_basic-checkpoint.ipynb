{
 "cells": [
  {
   "cell_type": "code",
   "execution_count": 5,
   "metadata": {},
   "outputs": [],
   "source": [
    "#오차역전파법!!\n",
    "#손실함수 기울기를 하나의 weight를 변화할때마다 수치미분을 하는 방식은\n",
    "# task의 개수가 많아질 수록 weight가 많으질 수록 계산 시간이 너무 크게 늘어난다.\n",
    "\n",
    "#오차역전파법 Backpropagation은 가중치 매개변수의 기울기를 효율적으로 계산해준다.\n",
    "\n",
    "#basic\n",
    "#계산 그래프를 이용, 노드는 weight에 비교될 수 있음, (*,+)등의 연산이 노드, 간선은 계산 결과값, 혹은 입력값>\n",
    "#출발지점에서 그래프를 따라가면 결과값을 받을 수 있음\n",
    "#역전파! ,  도착지점에서 1의 숫자를 역순으로 노드를 보내 \"국소적미분 값\"을 전달한다. \n",
    "#결과값은, 출발지의 1오를때 마다 도착지에 영향을 주는 증가량이라고 볼 수 있다.\n",
    "\n",
    "# 출발지(100) -> 노드(f(x)=2x) -> 노드(g(Y)=3Y) -> 도착지 (600)을 받는다.\n",
    "# 원래 구해야하는 미분값은 g(f(x))함수의 미분값이다.   즉 g'(f(x))*f'(x) = 3*2 = 6  ( g'은  g' =3 상수함수)\n",
    "# 원리는 이 과정을 역으로 미분값을 전달한다....연쇄법칙에 의해서, g'(Y) (Y에 대한 미분) 그 다음에 Y = f(x)이므로 f'(x)를 통해 x에따른 Y의 증가량(미분)\n",
    "# 결국 역전 순서로 하여도 ! x (출발지의 값)에 따른 미분값  g'(Y) * f'(x) 를 구할 수 있다.\n"
   ]
  },
  {
   "cell_type": "code",
   "execution_count": 6,
   "metadata": {},
   "outputs": [],
   "source": [
    "import numpy as np"
   ]
  },
  {
   "cell_type": "code",
   "execution_count": 7,
   "metadata": {},
   "outputs": [],
   "source": [
    "#곱셈 개층\n",
    "class MulLayer:\n",
    "    def __init__(self):\n",
    "        self.x = None\n",
    "        self.y = None\n",
    "    \n",
    "    #순전파 앞쪽으로 가는 계산,\n",
    "    def forward(self, x, y):\n",
    "        self.x = x\n",
    "        self.y = y                \n",
    "        out = x * y\n",
    "\n",
    "        return out\n",
    "    \n",
    "    # 역전파! 역전으로 미분값을 전달.\n",
    "    # x는 y곱만큼 증가한 것이고\n",
    "    # y는 x곱만큼 증가\n",
    "    def backward(self, dout):\n",
    "        dx = dout * self.y  # x와 y를 바꾼다.\n",
    "        dy = dout * self.x\n",
    "        \n",
    "        return dx, dy\n",
    "\n",
    "#덧셈 개층\n",
    "class AddLayer:\n",
    "    def __init__(self):\n",
    "        pass\n",
    "\n",
    "    def forward(self, x, y):\n",
    "        out = x + y\n",
    "\n",
    "        return out\n",
    "    #역전을 그대로 보내준다..\n",
    "    def backward(self, dout):\n",
    "        dx = dout * 1\n",
    "        dy = dout * 1\n",
    "\n",
    "        return dx, dy"
   ]
  },
  {
   "cell_type": "code",
   "execution_count": 8,
   "metadata": {},
   "outputs": [
    {
     "name": "stdout",
     "output_type": "stream",
     "text": [
      "price: 715\n",
      "dApple: 2.2\n",
      "dApple_num: 110\n",
      "dOrange: 3.3000000000000003\n",
      "dOrange_num: 165\n",
      "dTax: 650\n"
     ]
    }
   ],
   "source": [
    "apple = 100\n",
    "apple_num = 2\n",
    "orange = 150\n",
    "orange_num = 3\n",
    "tax = 1.1\n",
    "\n",
    "# layer\n",
    "# l1\n",
    "mul_apple_layer = MulLayer()    \n",
    "mul_orange_layer = MulLayer()  \n",
    "add_apple_orange_layer = AddLayer()\n",
    "\n",
    "# l2 \n",
    "mul_tax_layer = MulLayer()\n",
    "\n",
    "# forward\n",
    "# l1 each weight mul\n",
    "apple_price = mul_apple_layer.forward(apple, apple_num)  # (1)\n",
    "orange_price = mul_orange_layer.forward(orange, orange_num)  # (2)\n",
    "# Sum\n",
    "all_price = add_apple_orange_layer.forward(apple_price, orange_price)  # (3)\n",
    "# l2 mul tax\n",
    "price = mul_tax_layer.forward(all_price, tax)  # (4)\n",
    "\n",
    "# backward\n",
    "dprice = 1 \n",
    "# 곱이므로 나누어짐\n",
    "dall_price, dtax = mul_tax_layer.backward(dprice)  # (4)\n",
    "# 합이므로 그대로 나누어짐\n",
    "dapple_price, dorange_price = add_apple_orange_layer.backward(dall_price)  # (3)\n",
    "# 다시 각각 weight(사과 귤 개수) 나누어 짐\n",
    "dorange, dorange_num = mul_orange_layer.backward(dorange_price)  # (2)\n",
    "dapple, dapple_num = mul_apple_layer.backward(dapple_price)  # (1)\n",
    "\n",
    "print(\"price:\", int(price))\n",
    "print(\"dApple:\", dapple)\n",
    "print(\"dApple_num:\", int(dapple_num))\n",
    "print(\"dOrange:\", dorange)\n",
    "print(\"dOrange_num:\", int(dorange_num))\n",
    "print(\"dTax:\", dtax)"
   ]
  },
  {
   "cell_type": "code",
   "execution_count": null,
   "metadata": {},
   "outputs": [],
   "source": []
  }
 ],
 "metadata": {
  "kernelspec": {
   "display_name": "Python 3",
   "language": "python",
   "name": "python3"
  },
  "language_info": {
   "codemirror_mode": {
    "name": "ipython",
    "version": 3
   },
   "file_extension": ".py",
   "mimetype": "text/x-python",
   "name": "python",
   "nbconvert_exporter": "python",
   "pygments_lexer": "ipython3",
   "version": "3.6.9"
  }
 },
 "nbformat": 4,
 "nbformat_minor": 2
}
