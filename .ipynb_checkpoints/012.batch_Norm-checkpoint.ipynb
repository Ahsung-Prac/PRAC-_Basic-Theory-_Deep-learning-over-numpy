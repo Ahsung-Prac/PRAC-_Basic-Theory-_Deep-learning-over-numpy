{
 "cells": [
  {
   "cell_type": "code",
   "execution_count": 3,
   "metadata": {},
   "outputs": [],
   "source": [
    "import sys, os\n",
    "sys.path.append(os.pardir)  # 부모 디렉터리의 파일을 가져올 수 있도록 설정\n",
    "import numpy as np\n",
    "import matplotlib.pyplot as plt\n",
    "from dataset.mnist import load_mnist\n",
    "from common.multi_layer_net_extend import MultiLayerNetExtend\n",
    "from common.optimizer import SGD, Adam"
   ]
  },
  {
   "cell_type": "code",
   "execution_count": 7,
   "metadata": {},
   "outputs": [],
   "source": [
    "#배치 정규화를 사용\n",
    "\n",
    "# 학습 진행속도를 빠르게 개선시켜준다, 효과, 효율성이 좋음\n",
    "# 초기값에 영향을 매우 덜 받는데 , 밑의 그래프에서 노멀한 방법은 초기값에 따라 학습진행도에 큰차이가 보인다 (실선)\n",
    "# 배치 정규화는 매번 좋은 효과를 보여주고, 오버피팅을 억제시켜준다.\n",
    "\n",
    "# 배치 정규화란, 앞서 초기 가중치에 따라 학습의 큰차이가 있는 것을 보았다. 활성함수후 weight가 비슷한 값으로 모일경우가 그렇다\n",
    "# 그렇다면 강제적으로  weight후에 나온 값들을 멀리 퍼뜨린다면 괜찮지 않을까 하는 생각에서 나온 방법이다.\n",
    "# weight를 곱한후 나온 값을 평균 0 분산 1에 맞춰 값들을 퍼뜨린후, 활성화함수 단계로 넣어준다.\n",
    "# 즉 가중치곱 단계와 활성화단계 사이에 배치 정규화 단계를 삽입한다.\n",
    "\n",
    "\n",
    "(x_train, t_train), (x_test, t_test) = load_mnist(normalize=True)"
   ]
  },
  {
   "cell_type": "code",
   "execution_count": 8,
   "metadata": {},
   "outputs": [],
   "source": [
    "# 학습 데이터를 줄임\n",
    "x_train = x_train[:1000]\n",
    "t_train = t_train[:1000]\n",
    "\n",
    "max_epochs = 20\n",
    "train_size = x_train.shape[0]\n",
    "batch_size = 100\n",
    "learning_rate = 0.01\n",
    "\n",
    "\n",
    "def __train(weight_init_std):\n",
    "    bn_network = MultiLayerNetExtend(input_size=784, hidden_size_list=[100, 100, 100, 100, 100], output_size=10, \n",
    "                                    weight_init_std=weight_init_std, use_batchnorm=True)\n",
    "    network = MultiLayerNetExtend(input_size=784, hidden_size_list=[100, 100, 100, 100, 100], output_size=10,\n",
    "                                weight_init_std=weight_init_std)\n",
    "    optimizer = SGD(lr=learning_rate)\n",
    "    \n",
    "    train_acc_list = []\n",
    "    bn_train_acc_list = []\n",
    "    \n",
    "    iter_per_epoch = max(train_size / batch_size, 1)\n",
    "    epoch_cnt = 0\n",
    "    \n",
    "    for i in range(1000000000):\n",
    "        batch_mask = np.random.choice(train_size, batch_size)\n",
    "        x_batch = x_train[batch_mask]\n",
    "        t_batch = t_train[batch_mask]\n",
    "    \n",
    "        for _network in (bn_network, network):\n",
    "            grads = _network.gradient(x_batch, t_batch)\n",
    "            optimizer.update(_network.params, grads)\n",
    "    \n",
    "        if i % iter_per_epoch == 0:\n",
    "            train_acc = network.accuracy(x_train, t_train)\n",
    "            bn_train_acc = bn_network.accuracy(x_train, t_train)\n",
    "            train_acc_list.append(train_acc)\n",
    "            bn_train_acc_list.append(bn_train_acc)\n",
    "    \n",
    "            print(\"epoch:\" + str(epoch_cnt) + \" | \" + str(train_acc) + \" - \" + str(bn_train_acc))\n",
    "    \n",
    "            epoch_cnt += 1\n",
    "            if epoch_cnt >= max_epochs:\n",
    "                break\n",
    "                \n",
    "    return train_acc_list, bn_train_acc_list"
   ]
  },
  {
   "cell_type": "code",
   "execution_count": 9,
   "metadata": {},
   "outputs": [
    {
     "name": "stdout",
     "output_type": "stream",
     "text": [
      "============== 1/16 ==============\n",
      "epoch:0 | 0.116 - 0.109\n",
      "epoch:1 | 0.097 - 0.102\n"
     ]
    },
    {
     "name": "stderr",
     "output_type": "stream",
     "text": [
      "../common/functions.py:34: RuntimeWarning: invalid value encountered in subtract\n",
      "  x = x - np.max(x, axis=0)\n"
     ]
    },
    {
     "name": "stdout",
     "output_type": "stream",
     "text": [
      "epoch:2 | 0.097 - 0.118\n",
      "epoch:3 | 0.097 - 0.124\n",
      "epoch:4 | 0.097 - 0.139\n",
      "epoch:5 | 0.097 - 0.157\n",
      "epoch:6 | 0.097 - 0.192\n",
      "epoch:7 | 0.097 - 0.205\n",
      "epoch:8 | 0.097 - 0.221\n",
      "epoch:9 | 0.097 - 0.236\n",
      "epoch:10 | 0.097 - 0.26\n",
      "epoch:11 | 0.097 - 0.281\n",
      "epoch:12 | 0.097 - 0.297\n",
      "epoch:13 | 0.097 - 0.321\n",
      "epoch:14 | 0.097 - 0.333\n",
      "epoch:15 | 0.097 - 0.354\n",
      "epoch:16 | 0.097 - 0.358\n"
     ]
    },
    {
     "name": "stderr",
     "output_type": "stream",
     "text": [
      "No handles with labels found to put in legend.\n"
     ]
    },
    {
     "name": "stdout",
     "output_type": "stream",
     "text": [
      "epoch:17 | 0.097 - 0.381\n",
      "epoch:18 | 0.097 - 0.388\n",
      "epoch:19 | 0.097 - 0.411\n",
      "============== 2/16 ==============\n"
     ]
    },
    {
     "name": "stderr",
     "output_type": "stream",
     "text": [
      "/home/asung/.local/lib/python3.6/site-packages/numpy/core/fromnumeric.py:90: RuntimeWarning: overflow encountered in reduce\n",
      "  return ufunc.reduce(obj, axis, dtype, out, **passkwargs)\n"
     ]
    },
    {
     "name": "stdout",
     "output_type": "stream",
     "text": [
      "epoch:0 | 0.094 - 0.098\n",
      "epoch:1 | 0.097 - 0.145\n",
      "epoch:2 | 0.097 - 0.151\n",
      "epoch:3 | 0.097 - 0.169\n",
      "epoch:4 | 0.097 - 0.186\n",
      "epoch:5 | 0.097 - 0.202\n",
      "epoch:6 | 0.097 - 0.226\n",
      "epoch:7 | 0.097 - 0.254\n",
      "epoch:8 | 0.097 - 0.277\n",
      "epoch:9 | 0.097 - 0.301\n",
      "epoch:10 | 0.097 - 0.315\n",
      "epoch:11 | 0.097 - 0.34\n",
      "epoch:12 | 0.097 - 0.356\n",
      "epoch:13 | 0.097 - 0.369\n",
      "epoch:14 | 0.097 - 0.391\n",
      "epoch:15 | 0.097 - 0.418\n",
      "epoch:16 | 0.097 - 0.432\n",
      "epoch:17 | 0.097 - 0.441\n"
     ]
    },
    {
     "name": "stderr",
     "output_type": "stream",
     "text": [
      "No handles with labels found to put in legend.\n"
     ]
    },
    {
     "name": "stdout",
     "output_type": "stream",
     "text": [
      "epoch:18 | 0.097 - 0.45\n",
      "epoch:19 | 0.097 - 0.477\n",
      "============== 3/16 ==============\n",
      "epoch:0 | 0.145 - 0.091\n",
      "epoch:1 | 0.468 - 0.116\n",
      "epoch:2 | 0.589 - 0.159\n",
      "epoch:3 | 0.679 - 0.201\n",
      "epoch:4 | 0.749 - 0.23\n",
      "epoch:5 | 0.819 - 0.252\n",
      "epoch:6 | 0.849 - 0.3\n",
      "epoch:7 | 0.889 - 0.344\n",
      "epoch:8 | 0.924 - 0.385\n",
      "epoch:9 | 0.94 - 0.399\n",
      "epoch:10 | 0.955 - 0.44\n",
      "epoch:11 | 0.965 - 0.47\n",
      "epoch:12 | 0.973 - 0.496\n",
      "epoch:13 | 0.981 - 0.52\n",
      "epoch:14 | 0.981 - 0.538\n",
      "epoch:15 | 0.988 - 0.563\n",
      "epoch:16 | 0.991 - 0.585\n",
      "epoch:17 | 0.994 - 0.593\n",
      "epoch:18 | 0.994 - 0.607\n"
     ]
    },
    {
     "name": "stderr",
     "output_type": "stream",
     "text": [
      "No handles with labels found to put in legend.\n"
     ]
    },
    {
     "name": "stdout",
     "output_type": "stream",
     "text": [
      "epoch:19 | 0.995 - 0.624\n",
      "============== 4/16 ==============\n",
      "epoch:0 | 0.101 - 0.092\n",
      "epoch:1 | 0.236 - 0.115\n",
      "epoch:2 | 0.346 - 0.174\n",
      "epoch:3 | 0.468 - 0.266\n",
      "epoch:4 | 0.538 - 0.343\n",
      "epoch:5 | 0.608 - 0.412\n",
      "epoch:6 | 0.665 - 0.469\n",
      "epoch:7 | 0.7 - 0.511\n",
      "epoch:8 | 0.729 - 0.557\n",
      "epoch:9 | 0.756 - 0.597\n",
      "epoch:10 | 0.777 - 0.626\n",
      "epoch:11 | 0.799 - 0.65\n",
      "epoch:12 | 0.808 - 0.68\n",
      "epoch:13 | 0.819 - 0.694\n",
      "epoch:14 | 0.832 - 0.714\n",
      "epoch:15 | 0.831 - 0.725\n",
      "epoch:16 | 0.848 - 0.739\n",
      "epoch:17 | 0.853 - 0.749\n",
      "epoch:18 | 0.862 - 0.764\n",
      "epoch:19 | 0.873 - 0.779\n"
     ]
    },
    {
     "name": "stderr",
     "output_type": "stream",
     "text": [
      "No handles with labels found to put in legend.\n"
     ]
    },
    {
     "name": "stdout",
     "output_type": "stream",
     "text": [
      "============== 5/16 ==============\n",
      "epoch:0 | 0.077 - 0.1\n",
      "epoch:1 | 0.081 - 0.205\n",
      "epoch:2 | 0.09 - 0.364\n",
      "epoch:3 | 0.097 - 0.488\n",
      "epoch:4 | 0.111 - 0.562\n",
      "epoch:5 | 0.116 - 0.622\n",
      "epoch:6 | 0.134 - 0.661\n",
      "epoch:7 | 0.167 - 0.692\n",
      "epoch:8 | 0.197 - 0.731\n",
      "epoch:9 | 0.211 - 0.751\n",
      "epoch:10 | 0.246 - 0.777\n",
      "epoch:11 | 0.29 - 0.796\n",
      "epoch:12 | 0.301 - 0.811\n",
      "epoch:13 | 0.324 - 0.831\n",
      "epoch:14 | 0.351 - 0.848\n",
      "epoch:15 | 0.364 - 0.861\n",
      "epoch:16 | 0.367 - 0.873\n",
      "epoch:17 | 0.373 - 0.88\n",
      "epoch:18 | 0.381 - 0.89\n",
      "epoch:19 | 0.397 - 0.896\n"
     ]
    },
    {
     "name": "stderr",
     "output_type": "stream",
     "text": [
      "No handles with labels found to put in legend.\n"
     ]
    },
    {
     "name": "stdout",
     "output_type": "stream",
     "text": [
      "============== 6/16 ==============\n",
      "epoch:0 | 0.076 - 0.125\n",
      "epoch:1 | 0.103 - 0.188\n",
      "epoch:2 | 0.116 - 0.501\n",
      "epoch:3 | 0.116 - 0.642\n",
      "epoch:4 | 0.116 - 0.703\n",
      "epoch:5 | 0.116 - 0.741\n",
      "epoch:6 | 0.116 - 0.773\n",
      "epoch:7 | 0.116 - 0.806\n",
      "epoch:8 | 0.116 - 0.823\n",
      "epoch:9 | 0.116 - 0.849\n",
      "epoch:10 | 0.116 - 0.869\n",
      "epoch:11 | 0.116 - 0.886\n",
      "epoch:12 | 0.116 - 0.903\n",
      "epoch:13 | 0.116 - 0.909\n",
      "epoch:14 | 0.116 - 0.923\n",
      "epoch:15 | 0.119 - 0.93\n",
      "epoch:16 | 0.127 - 0.941\n",
      "epoch:17 | 0.121 - 0.939\n",
      "epoch:18 | 0.114 - 0.948\n",
      "epoch:19 | 0.117 - 0.955\n"
     ]
    },
    {
     "name": "stderr",
     "output_type": "stream",
     "text": [
      "No handles with labels found to put in legend.\n"
     ]
    },
    {
     "name": "stdout",
     "output_type": "stream",
     "text": [
      "============== 7/16 ==============\n",
      "epoch:0 | 0.105 - 0.104\n",
      "epoch:1 | 0.117 - 0.249\n",
      "epoch:2 | 0.116 - 0.582\n",
      "epoch:3 | 0.117 - 0.753\n",
      "epoch:4 | 0.117 - 0.807\n",
      "epoch:5 | 0.117 - 0.813\n",
      "epoch:6 | 0.117 - 0.839\n",
      "epoch:7 | 0.117 - 0.865\n",
      "epoch:8 | 0.117 - 0.889\n",
      "epoch:9 | 0.117 - 0.901\n",
      "epoch:10 | 0.117 - 0.922\n",
      "epoch:11 | 0.117 - 0.938\n",
      "epoch:12 | 0.116 - 0.947\n",
      "epoch:13 | 0.116 - 0.956\n",
      "epoch:14 | 0.116 - 0.967\n",
      "epoch:15 | 0.116 - 0.975\n",
      "epoch:16 | 0.116 - 0.982\n",
      "epoch:17 | 0.116 - 0.989\n",
      "epoch:18 | 0.116 - 0.991\n",
      "epoch:19 | 0.116 - 0.992\n"
     ]
    },
    {
     "name": "stderr",
     "output_type": "stream",
     "text": [
      "No handles with labels found to put in legend.\n"
     ]
    },
    {
     "name": "stdout",
     "output_type": "stream",
     "text": [
      "============== 8/16 ==============\n",
      "epoch:0 | 0.116 - 0.119\n",
      "epoch:1 | 0.116 - 0.384\n",
      "epoch:2 | 0.116 - 0.695\n",
      "epoch:3 | 0.116 - 0.785\n",
      "epoch:4 | 0.116 - 0.805\n",
      "epoch:5 | 0.116 - 0.831\n",
      "epoch:6 | 0.116 - 0.868\n",
      "epoch:7 | 0.116 - 0.904\n",
      "epoch:8 | 0.116 - 0.946\n",
      "epoch:9 | 0.116 - 0.967\n",
      "epoch:10 | 0.116 - 0.979\n",
      "epoch:11 | 0.116 - 0.991\n",
      "epoch:12 | 0.116 - 0.992\n",
      "epoch:13 | 0.116 - 0.996\n",
      "epoch:14 | 0.116 - 0.997\n",
      "epoch:15 | 0.116 - 0.997\n",
      "epoch:16 | 0.116 - 0.997\n",
      "epoch:17 | 0.116 - 0.998\n",
      "epoch:18 | 0.116 - 0.998\n",
      "epoch:19 | 0.116 - 0.999\n"
     ]
    },
    {
     "name": "stderr",
     "output_type": "stream",
     "text": [
      "No handles with labels found to put in legend.\n"
     ]
    },
    {
     "name": "stdout",
     "output_type": "stream",
     "text": [
      "============== 9/16 ==============\n",
      "epoch:0 | 0.097 - 0.109\n",
      "epoch:1 | 0.094 - 0.481\n",
      "epoch:2 | 0.117 - 0.745\n",
      "epoch:3 | 0.117 - 0.831\n",
      "epoch:4 | 0.117 - 0.87\n",
      "epoch:5 | 0.117 - 0.913\n",
      "epoch:6 | 0.117 - 0.957\n",
      "epoch:7 | 0.117 - 0.976\n",
      "epoch:8 | 0.117 - 0.982\n",
      "epoch:9 | 0.117 - 0.984\n",
      "epoch:10 | 0.117 - 0.993\n",
      "epoch:11 | 0.117 - 0.993\n",
      "epoch:12 | 0.117 - 0.996\n",
      "epoch:13 | 0.117 - 0.997\n",
      "epoch:14 | 0.117 - 0.996\n",
      "epoch:15 | 0.116 - 0.998\n",
      "epoch:16 | 0.117 - 0.999\n"
     ]
    },
    {
     "name": "stderr",
     "output_type": "stream",
     "text": [
      "No handles with labels found to put in legend.\n"
     ]
    },
    {
     "name": "stdout",
     "output_type": "stream",
     "text": [
      "epoch:17 | 0.117 - 0.999\n",
      "epoch:18 | 0.117 - 0.999\n",
      "epoch:19 | 0.117 - 0.999\n",
      "============== 10/16 ==============\n",
      "epoch:0 | 0.116 - 0.121\n",
      "epoch:1 | 0.117 - 0.55\n",
      "epoch:2 | 0.117 - 0.748\n",
      "epoch:3 | 0.116 - 0.801\n",
      "epoch:4 | 0.116 - 0.897\n",
      "epoch:5 | 0.117 - 0.954\n",
      "epoch:6 | 0.116 - 0.933\n",
      "epoch:7 | 0.116 - 0.971\n",
      "epoch:8 | 0.116 - 0.973\n",
      "epoch:9 | 0.116 - 0.991\n",
      "epoch:10 | 0.116 - 0.975\n",
      "epoch:11 | 0.116 - 0.995\n",
      "epoch:12 | 0.116 - 0.993\n",
      "epoch:13 | 0.116 - 0.998\n",
      "epoch:14 | 0.116 - 0.998\n",
      "epoch:15 | 0.116 - 1.0\n",
      "epoch:16 | 0.116 - 1.0\n"
     ]
    },
    {
     "name": "stderr",
     "output_type": "stream",
     "text": [
      "No handles with labels found to put in legend.\n"
     ]
    },
    {
     "name": "stdout",
     "output_type": "stream",
     "text": [
      "epoch:17 | 0.116 - 1.0\n",
      "epoch:18 | 0.116 - 1.0\n",
      "epoch:19 | 0.116 - 1.0\n",
      "============== 11/16 ==============\n",
      "epoch:0 | 0.099 - 0.192\n",
      "epoch:1 | 0.117 - 0.514\n",
      "epoch:2 | 0.116 - 0.554\n",
      "epoch:3 | 0.116 - 0.602\n",
      "epoch:4 | 0.116 - 0.692\n",
      "epoch:5 | 0.116 - 0.681\n",
      "epoch:6 | 0.116 - 0.707\n",
      "epoch:7 | 0.116 - 0.706\n",
      "epoch:8 | 0.116 - 0.741\n",
      "epoch:9 | 0.116 - 0.767\n",
      "epoch:10 | 0.116 - 0.821\n",
      "epoch:11 | 0.116 - 0.786\n",
      "epoch:12 | 0.116 - 0.818\n",
      "epoch:13 | 0.116 - 0.884\n",
      "epoch:14 | 0.116 - 0.889\n",
      "epoch:15 | 0.116 - 0.902\n",
      "epoch:16 | 0.116 - 0.776\n",
      "epoch:17 | 0.116 - 0.893\n"
     ]
    },
    {
     "name": "stderr",
     "output_type": "stream",
     "text": [
      "No handles with labels found to put in legend.\n"
     ]
    },
    {
     "name": "stdout",
     "output_type": "stream",
     "text": [
      "epoch:18 | 0.116 - 0.893\n",
      "epoch:19 | 0.116 - 0.901\n",
      "============== 12/16 ==============\n",
      "epoch:0 | 0.097 - 0.097\n",
      "epoch:1 | 0.117 - 0.51\n",
      "epoch:2 | 0.116 - 0.65\n",
      "epoch:3 | 0.117 - 0.682\n",
      "epoch:4 | 0.105 - 0.81\n",
      "epoch:5 | 0.117 - 0.855\n",
      "epoch:6 | 0.116 - 0.844\n",
      "epoch:7 | 0.116 - 0.727\n",
      "epoch:8 | 0.116 - 0.882\n",
      "epoch:9 | 0.117 - 0.874\n",
      "epoch:10 | 0.117 - 0.834\n",
      "epoch:11 | 0.117 - 0.894\n",
      "epoch:12 | 0.117 - 0.875\n",
      "epoch:13 | 0.117 - 0.898\n",
      "epoch:14 | 0.117 - 0.901\n",
      "epoch:15 | 0.117 - 0.905\n",
      "epoch:16 | 0.117 - 0.905\n",
      "epoch:17 | 0.117 - 0.905\n",
      "epoch:18 | 0.117 - 0.907\n"
     ]
    },
    {
     "name": "stderr",
     "output_type": "stream",
     "text": [
      "No handles with labels found to put in legend.\n"
     ]
    },
    {
     "name": "stdout",
     "output_type": "stream",
     "text": [
      "epoch:19 | 0.116 - 0.907\n",
      "============== 13/16 ==============\n",
      "epoch:0 | 0.099 - 0.099\n",
      "epoch:1 | 0.117 - 0.291\n",
      "epoch:2 | 0.117 - 0.448\n",
      "epoch:3 | 0.116 - 0.452\n",
      "epoch:4 | 0.116 - 0.498\n",
      "epoch:5 | 0.116 - 0.501\n",
      "epoch:6 | 0.116 - 0.414\n",
      "epoch:7 | 0.116 - 0.483\n",
      "epoch:8 | 0.116 - 0.488\n",
      "epoch:9 | 0.116 - 0.506\n",
      "epoch:10 | 0.116 - 0.523\n",
      "epoch:11 | 0.116 - 0.521\n",
      "epoch:12 | 0.116 - 0.582\n",
      "epoch:13 | 0.116 - 0.523\n",
      "epoch:14 | 0.116 - 0.527\n",
      "epoch:15 | 0.116 - 0.578\n",
      "epoch:16 | 0.116 - 0.591\n"
     ]
    },
    {
     "name": "stderr",
     "output_type": "stream",
     "text": [
      "No handles with labels found to put in legend.\n"
     ]
    },
    {
     "name": "stdout",
     "output_type": "stream",
     "text": [
      "epoch:17 | 0.116 - 0.586\n",
      "epoch:18 | 0.116 - 0.542\n",
      "epoch:19 | 0.116 - 0.575\n",
      "============== 14/16 ==============\n",
      "epoch:0 | 0.105 - 0.103\n",
      "epoch:1 | 0.117 - 0.389\n",
      "epoch:2 | 0.117 - 0.486\n",
      "epoch:3 | 0.117 - 0.501\n",
      "epoch:4 | 0.117 - 0.5\n",
      "epoch:5 | 0.117 - 0.499\n",
      "epoch:6 | 0.117 - 0.512\n",
      "epoch:7 | 0.117 - 0.595\n",
      "epoch:8 | 0.117 - 0.592\n",
      "epoch:9 | 0.117 - 0.593\n",
      "epoch:10 | 0.117 - 0.596\n",
      "epoch:11 | 0.117 - 0.607\n",
      "epoch:12 | 0.117 - 0.615\n",
      "epoch:13 | 0.117 - 0.612\n",
      "epoch:14 | 0.117 - 0.53\n",
      "epoch:15 | 0.117 - 0.592\n",
      "epoch:16 | 0.117 - 0.603\n",
      "epoch:17 | 0.117 - 0.608\n"
     ]
    },
    {
     "name": "stderr",
     "output_type": "stream",
     "text": [
      "No handles with labels found to put in legend.\n"
     ]
    },
    {
     "name": "stdout",
     "output_type": "stream",
     "text": [
      "epoch:18 | 0.117 - 0.612\n",
      "epoch:19 | 0.117 - 0.616\n",
      "============== 15/16 ==============\n",
      "epoch:0 | 0.087 - 0.14\n",
      "epoch:1 | 0.116 - 0.443\n",
      "epoch:2 | 0.117 - 0.482\n",
      "epoch:3 | 0.117 - 0.49\n",
      "epoch:4 | 0.117 - 0.555\n",
      "epoch:5 | 0.117 - 0.555\n",
      "epoch:6 | 0.117 - 0.561\n",
      "epoch:7 | 0.117 - 0.577\n",
      "epoch:8 | 0.117 - 0.552\n",
      "epoch:9 | 0.117 - 0.592\n",
      "epoch:10 | 0.117 - 0.59\n",
      "epoch:11 | 0.117 - 0.6\n",
      "epoch:12 | 0.117 - 0.603\n",
      "epoch:13 | 0.117 - 0.604\n",
      "epoch:14 | 0.117 - 0.602\n",
      "epoch:15 | 0.117 - 0.606\n",
      "epoch:16 | 0.117 - 0.606\n",
      "epoch:17 | 0.117 - 0.606\n",
      "epoch:18 | 0.117 - 0.572\n"
     ]
    },
    {
     "name": "stderr",
     "output_type": "stream",
     "text": [
      "No handles with labels found to put in legend.\n"
     ]
    },
    {
     "name": "stdout",
     "output_type": "stream",
     "text": [
      "epoch:19 | 0.117 - 0.605\n",
      "============== 16/16 ==============\n",
      "epoch:0 | 0.097 - 0.172\n",
      "epoch:1 | 0.116 - 0.296\n",
      "epoch:2 | 0.116 - 0.393\n",
      "epoch:3 | 0.116 - 0.411\n",
      "epoch:4 | 0.117 - 0.301\n",
      "epoch:5 | 0.116 - 0.41\n",
      "epoch:6 | 0.116 - 0.418\n",
      "epoch:7 | 0.116 - 0.425\n",
      "epoch:8 | 0.116 - 0.426\n",
      "epoch:9 | 0.116 - 0.43\n",
      "epoch:10 | 0.116 - 0.43\n",
      "epoch:11 | 0.117 - 0.431\n",
      "epoch:12 | 0.117 - 0.432\n",
      "epoch:13 | 0.117 - 0.432\n",
      "epoch:14 | 0.117 - 0.431\n",
      "epoch:15 | 0.117 - 0.482\n",
      "epoch:16 | 0.117 - 0.508\n",
      "epoch:17 | 0.117 - 0.511\n",
      "epoch:18 | 0.117 - 0.518\n",
      "epoch:19 | 0.117 - 0.518\n"
     ]
    },
    {
     "data": {
      "image/png": "[encoded data removed]",
      "text/plain": [
       "<Figure size 432x288 with 16 Axes>"
      ]
     },
     "metadata": {
      "needs_background": "light"
     },
     "output_type": "display_data"
    }
   ],
   "source": [
    "# 실선 = 배치정규화\n",
    "# 점선 = 배치 사용안한 경우\n",
    "\n",
    "#각 그래프의 경우들은 가중치의 초기값 표준편차를 다르게 했다.\n",
    "\n",
    "\n",
    "\n",
    "# 그래프 그리기==========\n",
    "weight_scale_list = np.logspace(0, -4, num=16)\n",
    "x = np.arange(max_epochs)\n",
    "\n",
    "for i, w in enumerate(weight_scale_list):\n",
    "    print( \"============== \" + str(i+1) + \"/16\" + \" ==============\")\n",
    "    train_acc_list, bn_train_acc_list = __train(w)\n",
    "    \n",
    "    plt.subplot(4,4,i+1)\n",
    "    plt.title(\"W:\" + str(w))\n",
    "    if i == 15:\n",
    "        plt.plot(x, bn_train_acc_list, label='Batch Normalization', markevery=2)\n",
    "        plt.plot(x, train_acc_list, linestyle = \"--\", label='Normal(without BatchNorm)', markevery=2)\n",
    "    else:\n",
    "        plt.plot(x, bn_train_acc_list, markevery=2)\n",
    "        plt.plot(x, train_acc_list, linestyle=\"--\", markevery=2)\n",
    "\n",
    "    plt.ylim(0, 1.0)\n",
    "    if i % 4:\n",
    "        plt.yticks([])\n",
    "    else:\n",
    "        plt.ylabel(\"accuracy\")\n",
    "    if i < 12:\n",
    "        plt.xticks([])\n",
    "    else:\n",
    "        plt.xlabel(\"epochs\")\n",
    "    plt.legend(loc='lower right')\n",
    "    \n",
    "plt.show()"
   ]
  },
  {
   "cell_type": "code",
   "execution_count": null,
   "metadata": {},
   "outputs": [],
   "source": [
    "ㄸ"
   ]
  }
 ],
 "metadata": {
  "kernelspec": {
   "display_name": "Python 3",
   "language": "python",
   "name": "python3"
  },
  "language_info": {
   "codemirror_mode": {
    "name": "ipython",
    "version": 3
   },
   "file_extension": ".py",
   "mimetype": "text/x-python",
   "name": "python",
   "nbconvert_exporter": "python",
   "pygments_lexer": "ipython3",
   "version": "3.6.9"
  }
 },
 "nbformat": 4,
 "nbformat_minor": 2
}
