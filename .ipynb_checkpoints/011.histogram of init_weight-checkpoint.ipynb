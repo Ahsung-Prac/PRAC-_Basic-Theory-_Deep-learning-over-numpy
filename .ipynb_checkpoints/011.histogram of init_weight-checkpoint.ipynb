{
 "cells": [
  {
   "cell_type": "code",
   "execution_count": 1,
   "metadata": {},
   "outputs": [],
   "source": [
    "import numpy as np\n",
    "import matplotlib.pyplot as plt"
   ]
  },
  {
   "cell_type": "code",
   "execution_count": 6,
   "metadata": {},
   "outputs": [],
   "source": [
    "def sigmoid(x):\n",
    "    return 1 / (1 + np.exp(-x))\n",
    "\n",
    "\n",
    "def ReLU(x):\n",
    "    return np.maximum(0, x)\n",
    "\n",
    "\n",
    "def tanh(x):\n",
    "    return np.tanh(x)"
   ]
  },
  {
   "cell_type": "code",
   "execution_count": 14,
   "metadata": {},
   "outputs": [
    {
     "data": {
      "image/png": "[encoded data removed]",
      "text/plain": [
       "<Figure size 432x288 with 5 Axes>"
      ]
     },
     "metadata": {
      "needs_background": "light"
     },
     "output_type": "display_data"
    }
   ],
   "source": [
    "input_data = np.random.randn(1000, 100)  # 1000개의 데이터 1000*100\n",
    "node_num = 100  # 각 은닉층의 노드(뉴런) 수\n",
    "hidden_layer_size = 5  # 은닉층이 5개\n",
    "activations = {}  # 이곳에 활성화 결과를 저장\n",
    "\n",
    "x = input_data\n",
    "\n",
    "\n",
    "\n",
    "#가중치의 초기값들을 랜덤으로 배치\n",
    "#그때 가중치의 크기를 얼마로 할지 선택해보자.\n",
    "#randn 은 평균 0 , 표준편차 1 의 랜덤 숫자 배치.\n",
    "for i in range(hidden_layer_size):\n",
    "    #전의 weight 결과물을 이어서 가져오자!\n",
    "    if i != 0:\n",
    "        x = activations[i-1]\n",
    "\n",
    "    # 초깃값을 다양하게 바꿔가며 실험해보자！\n",
    "    \n",
    "    #표준편차를 1으로 0과 1에 치우쳐짐.\n",
    "    #sigmoid가 0과 1에 가까우면 미분값이 0으로 점점 수렴하게된다.\n",
    "    #w = np.random.randn(node_num, node_num) * 1             \n",
    "        \n",
    "    #표준편차를 0.01로  \n",
    "    #가운대로 몰렸다. 어쨌든, weight가 한곳으로 몰린다는 것은 다양성이 생길 가능성이 떨어진다.\n",
    "    #w = np.random.randn(node_num, node_num) * 0.01\n",
    "    \n",
    "    #Xavier init value\n",
    "    #표준편차를 가중치개수의 제곱수의   역수!\n",
    "    #꽤 준수하게 퍼뜨린다.\n",
    "    #w = np.random.randn(node_num, node_num) * np.sqrt(1.0 / node_num)\n",
    "    \n",
    "    # He 초기 값, ReLu에 적합,  (2^(1/2))배로 한결과, 조금더 잘 퍼지는 듯하다.\n",
    "    w = np.random.randn(node_num, node_num) * np.sqrt(2.0 / node_num)\n",
    "\n",
    "\n",
    "    a = np.dot(x, w)   # i층에서 100*100의 weight를 계산!\n",
    "\n",
    "\n",
    "    # 활성화 함수도 바꿔가며 실험해보자！\n",
    "    \n",
    "    z = sigmoid(a)\n",
    "    #z = ReLU(a)\n",
    "    #z = tanh(a)\n",
    "\n",
    "    activations[i] = z\n",
    "\n",
    "# 히스토그램 그리기\n",
    "for i, a in activations.items():\n",
    "    plt.subplot(1, len(activations), i+1)\n",
    "    plt.title(str(i+1) + \"-layer\")\n",
    "    if i != 0: plt.yticks([], [])\n",
    "    # plt.xlim(0.1, 1)\n",
    "    # plt.ylim(0, 7000)\n",
    "    plt.hist(a.flatten(), 30, range=(0,1))\n",
    "plt.show()"
   ]
  },
  {
   "cell_type": "code",
   "execution_count": null,
   "metadata": {},
   "outputs": [],
   "source": []
  },
  {
   "cell_type": "code",
   "execution_count": null,
   "metadata": {},
   "outputs": [],
   "source": []
  }
 ],
 "metadata": {
  "kernelspec": {
   "display_name": "Python 3",
   "language": "python",
   "name": "python3"
  },
  "language_info": {
   "codemirror_mode": {
    "name": "ipython",
    "version": 3
   },
   "file_extension": ".py",
   "mimetype": "text/x-python",
   "name": "python",
   "nbconvert_exporter": "python",
   "pygments_lexer": "ipython3",
   "version": "3.6.9"
  }
 },
 "nbformat": 4,
 "nbformat_minor": 2
}
