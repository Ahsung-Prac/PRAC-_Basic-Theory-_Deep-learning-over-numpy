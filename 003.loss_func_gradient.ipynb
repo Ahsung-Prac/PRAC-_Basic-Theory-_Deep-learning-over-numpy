{
 "cells": [
  {
   "cell_type": "code",
   "execution_count": 1,
   "metadata": {},
   "outputs": [],
   "source": [
    "# coding: utf-8\n",
    "import sys, os\n",
    "sys.path.append(os.pardir)  # 부모 디렉터리의 파일을 가져올 수 있도록 설정\n",
    "import numpy as np\n",
    "from common.functions import softmax, cross_entropy_error\n",
    "from common.gradient import numerical_gradient"
   ]
  },
  {
   "cell_type": "code",
   "execution_count": 2,
   "metadata": {},
   "outputs": [],
   "source": [
    "\n",
    "class simpleNet:\n",
    "    def __init__(self):\n",
    "        # 2*3 짜리 weight 행렬 랜덤 생성\n",
    "        self.W = np.random.randn(2,3) # 정규분포로 초기화\n",
    "\n",
    "    # x = 1*2 , 2개의 입력이 주어졌을때, 출력값, = 1*3    \n",
    "    def predict(self, x):\n",
    "        return np.dot(x, self.W)\n",
    "\n",
    "    # 무게결과 값 후,, softmax로 변환후\n",
    "    # 정답 vector와 손실률 비교,\n",
    "    # one-shot 확률 모델,\n",
    "    def loss(self, x, t):\n",
    "        z = self.predict(x)\n",
    "        y = softmax(z)\n",
    "        loss = cross_entropy_error(y, t)\n",
    "\n",
    "        return loss\n",
    "    \n"
   ]
  },
  {
   "cell_type": "code",
   "execution_count": 4,
   "metadata": {},
   "outputs": [
    {
     "name": "stdout",
     "output_type": "stream",
     "text": [
      "[[-1.73364549 -0.32397934  0.54643781]\n",
      " [ 0.38974889  1.48923678  0.05945051]]\n",
      "\n",
      "Predic:\n",
      " [-0.6894133   1.14592551  0.38136814]\n",
      "\n",
      "max:\n",
      " 1 :  1.1459255053058492\n",
      "\n",
      "loss val:\n",
      "1.250125985809945\n"
     ]
    }
   ],
   "source": [
    "tmp = simpleNet()\n",
    "print(tmp.W)\n",
    "x = np.array([0.6,0.9])\n",
    "\n",
    "p = tmp.predict(x)\n",
    "\n",
    "print(\"\\nPredic:\\n\",p)\n",
    "np.argmax(p)  # 최대값의 인덱스\n",
    "print(\"\\nmax:\\n\",np.argmax(p),\": \",p[np.argmax(p)])\n",
    "\n",
    "# 정답 lable\n",
    "t = np.array([0,0,1])\n",
    "#loss func\n",
    "lossf = tmp.loss(x,t)\n",
    "print(\"\\nloss val:\")\n",
    "print(lossf)"
   ]
  },
  {
   "cell_type": "code",
   "execution_count": 5,
   "metadata": {},
   "outputs": [
    {
     "name": "stdout",
     "output_type": "stream",
     "text": [
      "[[ 0.05891063  0.36920806 -0.42811869]\n",
      " [ 0.08836594  0.55381209 -0.64217803]]\n"
     ]
    }
   ],
   "source": [
    "#f는 매개변수와 상관없이 x일때의 loss값을 반환\n",
    "# !!!! 하지만 loss안에서 매번 weigth를 사용하여 계산한다..\n",
    "f = lambda w : tmp.loss(x,t)\n",
    "\n",
    "#손실 값을 알고 있으니 각 weight별로 편미분 값을 계산\n",
    "\n",
    "#?? f()을 매개변수 값과 상관없이 놓으면 미분값이 달라지지 않을텐데 0이 어떻게 안나온거지?\n",
    "#  tmp.loss는 weight를 매번 사용하여 계산하기 때문에 tmp.W값을 변화시키면 계속 변한다.\n",
    "#  즉 +h만큼 올린 weight로 계산하면 weight의 변화율마다 손실함수의 편미분값을 구할 수 있다.\n",
    "dW = numerical_gradient(f,tmp.W)\n",
    "print(dW)"
   ]
  },
  {
   "cell_type": "code",
   "execution_count": 4,
   "metadata": {},
   "outputs": [
    {
     "name": "stdout",
     "output_type": "stream",
     "text": [
      "0.34697647769252354\n",
      "0.8364137825872542\n"
     ]
    }
   ],
   "source": [
    "print(f(tmp.W)) #1.1410246625416545\n",
    "tmp_val = x[0]\n",
    "h = 1e-4\n",
    "tmp.W[0] = float(tmp_val) + h\n",
    "print(f(tmp.W))\n",
    "tmp.W[0] = tmp_val\n",
    "\n",
    "#W가 변하면 predic값이 변하기 때문에 f에서 쓰는 매개변수가 더미이더라도\n",
    "#각 편미분값들이 정해질 수 있다. loss는 softmax(x*W) - t   이다.\n",
    "#gradient에서 W는 계속 변하고 있으므로 출력값이 달라진다."
   ]
  },
  {
   "cell_type": "code",
   "execution_count": null,
   "metadata": {},
   "outputs": [],
   "source": []
  }
 ],
 "metadata": {
  "kernelspec": {
   "display_name": "detectron2",
   "language": "python",
   "name": "detectron2"
  },
  "language_info": {
   "codemirror_mode": {
    "name": "ipython",
    "version": 3
   },
   "file_extension": ".py",
   "mimetype": "text/x-python",
   "name": "python",
   "nbconvert_exporter": "python",
   "pygments_lexer": "ipython3",
   "version": "3.6.9"
  }
 },
 "nbformat": 4,
 "nbformat_minor": 2
}
